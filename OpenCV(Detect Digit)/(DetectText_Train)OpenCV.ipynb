{
 "cells": [
  {
   "cell_type": "markdown",
   "metadata": {},
   "source": [
    "### Importing libraries"
   ]
  },
  {
   "cell_type": "code",
   "execution_count": 93,
   "metadata": {},
   "outputs": [],
   "source": [
    "import numpy as np\n",
    "import cv2\n",
    "import os\n",
    "import tensorflow as tf\n",
    "import pickle\n",
    "\n",
    "from sklearn.model_selection import train_test_split # for splitting data\n",
    "from matplotlib import pyplot as plt\n",
    "from keras.preprocessing.image import ImageDataGenerator # for image augmentation\n",
    "from keras.utils.np_utils import to_categorical # for one-hot encoding\n",
    "from keras.models import Sequential\n",
    "from tensorflow.keras.layers import Conv2D, \\\n",
    "                                    MaxPooling2D, \\\n",
    "                                    Flatten, \\\n",
    "                                    Dense, \\\n",
    "                                    Dropout\n"
   ]
  },
  {
   "cell_type": "code",
   "execution_count": 94,
   "metadata": {},
   "outputs": [],
   "source": [
    "path = 'mnist_png/training'\n",
    "images = list()\n",
    "class_number_labels = list()\n",
    "test_ratio = 0.2\n",
    "validation_ratio = 0.2 \n",
    "num_of_imgs_each_list = list()\n",
    "image_dimensions = (32, 32, 3)"
   ]
  },
  {
   "cell_type": "code",
   "execution_count": 95,
   "metadata": {},
   "outputs": [
    {
     "name": "stdout",
     "output_type": "stream",
     "text": [
      "Number of classes:  10\n"
     ]
    }
   ],
   "source": [
    "list_of_classes = os.listdir(path)\n",
    "num_of_classes = len(list_of_classes)\n",
    "print(\"Number of classes: \", num_of_classes)"
   ]
  },
  {
   "cell_type": "code",
   "execution_count": 96,
   "metadata": {},
   "outputs": [
    {
     "name": "stdout",
     "output_type": "stream",
     "text": [
      "60000\n",
      "60000\n"
     ]
    }
   ],
   "source": [
    "# getting access to each class\n",
    "for class_num in range (0, num_of_classes):\n",
    "    # list of images in each class\n",
    "    list_of_images = os.listdir(path + \"/\" + str(class_num))\n",
    "    # getting access to each image in each class\n",
    "    for img_name in list_of_images:\n",
    "        \n",
    "        img = cv2.imread(path + \"/\" + str(class_num) + \"/\" + img_name)\n",
    "        img = cv2.resize(img, (image_dimensions[0], image_dimensions[1]))\n",
    "        images.append(img)\n",
    "        class_number_labels.append(class_num)\n",
    "\n",
    "print(len(images))\n",
    "print(len(class_number_labels))"
   ]
  },
  {
   "cell_type": "code",
   "execution_count": 97,
   "metadata": {},
   "outputs": [
    {
     "name": "stdout",
     "output_type": "stream",
     "text": [
      "(60000, 32, 32, 3)\n",
      "(60000,)\n"
     ]
    }
   ],
   "source": [
    "images = np.array(images) # converting to numpy array\n",
    "class_number_labels = np.array(class_number_labels) # converting to numpy array\n",
    "print(images.shape)\n",
    "print(class_number_labels.shape)"
   ]
  },
  {
   "cell_type": "code",
   "execution_count": 98,
   "metadata": {},
   "outputs": [
    {
     "name": "stdout",
     "output_type": "stream",
     "text": [
      "(38400, 32, 32, 3)\n",
      "(12000, 32, 32, 3)\n",
      "(9600, 32, 32, 3)\n"
     ]
    }
   ],
   "source": [
    "# splitting data into train, test and validation\n",
    "X_train, X_test, Y_train, Y_test = train_test_split(images, class_number_labels, test_size=test_ratio)\n",
    "X_train, X_validation, Y_train, Y_validation = train_test_split(X_train, Y_train, test_size=validation_ratio)\n",
    "print(X_train.shape)\n",
    "print(X_test.shape)\n",
    "print(X_validation.shape)"
   ]
  },
  {
   "cell_type": "code",
   "execution_count": 99,
   "metadata": {},
   "outputs": [
    {
     "name": "stdout",
     "output_type": "stream",
     "text": [
      "[3748, 4304, 3824, 3891, 3739, 3508, 3819, 4027, 3763, 3777]\n"
     ]
    }
   ],
   "source": [
    "# creating a list that holds the number of images in each class\n",
    "for num_of_imgs_each_name in range(0, num_of_classes):\n",
    "    num_of_imgs_each = len(np.where(Y_train==num_of_imgs_each_name)[0]) # getting the length of the list of appearances of each number (by index)\n",
    "    num_of_imgs_each_list.append(num_of_imgs_each)\n",
    "\n",
    "print(num_of_imgs_each_list)"
   ]
  },
  {
   "cell_type": "code",
   "execution_count": 100,
   "metadata": {},
   "outputs": [
    {
     "data": {
      "image/png": "[encoded data removed]",
      "text/plain": [
       "<Figure size 720x360 with 1 Axes>"
      ]
     },
     "metadata": {
      "needs_background": "light"
     },
     "output_type": "display_data"
    }
   ],
   "source": [
    "# Plotting the number of images in each class\n",
    "plt.figure(figsize=(10,5))\n",
    "plt.bar(range(0, num_of_classes), num_of_imgs_each_list)\n",
    "plt.title(\"Number of images per class\")\n",
    "plt.xlabel(\"Classes\")\n",
    "plt.ylabel(\"Number of images\")\n",
    "plt.show()"
   ]
  },
  {
   "cell_type": "code",
   "execution_count": 101,
   "metadata": {},
   "outputs": [],
   "source": [
    "def pre_processing(img):\n",
    "    img = cv2.cvtColor(img, cv2.COLOR_BGR2GRAY)\n",
    "    img = cv2.equalizeHist(img) # distribute the lightness of the image evenly\n",
    "    img = img/255 # better for training processes\n",
    "    return img"
   ]
  },
  {
   "cell_type": "code",
   "execution_count": 102,
   "metadata": {},
   "outputs": [],
   "source": [
    "# Applying the pre-processing function to each image of the training, testing, and valdiation sets\n",
    "X_train = np.array(list(map(pre_processing, X_train)))\n",
    "X_test = np.array(list(map(pre_processing, X_test)))\n",
    "X_validation = np.array(list(map(pre_processing, X_validation)))"
   ]
  },
  {
   "cell_type": "code",
   "execution_count": 103,
   "metadata": {},
   "outputs": [],
   "source": [
    "# Adding the depth that is needed for the CNN to run properly to each image in each set\n",
    "X_train = X_train.reshape(X_train.shape[0], X_train.shape[1], X_train.shape[2], 1)\n",
    "X_test = X_test.reshape(X_test.shape[0], X_test.shape[1], X_test.shape[2], 1)\n",
    "X_validation = X_validation.reshape(X_validation.shape[0], X_validation.shape[1], X_validation.shape[2], 1)"
   ]
  },
  {
   "cell_type": "code",
   "execution_count": 104,
   "metadata": {},
   "outputs": [],
   "source": [
    "# Augment images (add zoom, rotation, etc.)\n",
    "# This makes the dataset more generic\n",
    "data_generator = ImageDataGenerator(width_shift_range=0.1,\n",
    "                                    height_shift_range=0.1,\n",
    "                                    zoom_range=0.2,\n",
    "                                    shear_range=0.1,\n",
    "                                    rotation_range=10)\n",
    "\n",
    "# we don't generate images before training but generate as we go along during the train process\n",
    "# we want the generator to know the dataset beforehand\n",
    "# the images would be in batches\n",
    "# we request a batch, it would augment, and send it back\n",
    "data_generator.fit(X_train)\n",
    "\n",
    "# one hot encoding our matrices is necessary for the network\n",
    "Y_train = to_categorical(Y_train, num_of_classes)\n",
    "Y_test = to_categorical(Y_test, num_of_classes)\n",
    "Y_validation = to_categorical(Y_validation, num_of_classes)\n"
   ]
  },
  {
   "cell_type": "code",
   "execution_count": 105,
   "metadata": {},
   "outputs": [],
   "source": [
    "# Initializing an optimizer\n",
    "my_optimizer = tf.keras.optimizers.Adam(learning_rate=0.001)\n",
    "\n",
    "# the model is based on the LeNet model\n",
    "def my_model():\n",
    "    num_of_filters = 60\n",
    "    size_of_filter_1 = (5, 5)\n",
    "    size_of_filter_2 = (3, 3)\n",
    "    size_of_pool = (2, 2)\n",
    "    num_of_nodes = 500\n",
    "\n",
    "    model = Sequential()\n",
    "    \n",
    "    # adding the 1st convolutional layer\n",
    "    model.add((Conv2D(num_of_filters, size_of_filter_1, input_shape=(image_dimensions[0], image_dimensions[1], 1), activation='relu')))\n",
    "    # adding the 2nd convolutional layer\n",
    "    model.add((Conv2D(num_of_filters, size_of_filter_1, activation='relu')))\n",
    "    # adding a pooling layer \n",
    "    model.add(MaxPooling2D(pool_size=size_of_pool))\n",
    "    # adding other convolutional layers\n",
    "    model.add((Conv2D(num_of_filters//2, size_of_filter_2, activation='relu')))\n",
    "    model.add((Conv2D(num_of_filters//2, size_of_filter_2, activation='relu')))\n",
    "    # adding another pooling layer \n",
    "    model.add(MaxPooling2D(pool_size=size_of_pool))\n",
    "    # adding a dropout layer(helps to reduce overfitting and it's making it more generic)\n",
    "    model.add(Dropout(0.5))\n",
    "    # adding a flattening layer\n",
    "    model.add(Flatten())\n",
    "    # adding a dense layer\n",
    "    model.add(Dense(num_of_nodes, activation='relu'))\n",
    "    # adding another dropout layer\n",
    "    model.add(Dropout(0.5))\n",
    "    # adding another dense layer\n",
    "    model.add(Dense(num_of_classes, activation='softmax'))\n",
    "    # compiling the model and mentioning the optimizer and loss function (cross entropy) and metrics (accuracy)\n",
    "    model.compile(my_optimizer, loss='categorical_crossentropy', metrics=['accuracy'])\n",
    "    return model\n",
    "\n"
   ]
  },
  {
   "cell_type": "code",
   "execution_count": 106,
   "metadata": {},
   "outputs": [
    {
     "name": "stdout",
     "output_type": "stream",
     "text": [
      "Model: \"sequential_5\"\n",
      "_________________________________________________________________\n",
      " Layer (type)                Output Shape              Param #   \n",
      "=================================================================\n",
      " conv2d_16 (Conv2D)          (None, 28, 28, 60)        1560      \n",
      "                                                                 \n",
      " conv2d_17 (Conv2D)          (None, 24, 24, 60)        90060     \n",
      "                                                                 \n",
      " max_pooling2d_8 (MaxPooling  (None, 12, 12, 60)       0         \n",
      " 2D)                                                             \n",
      "                                                                 \n",
      " conv2d_18 (Conv2D)          (None, 10, 10, 30)        16230     \n",
      "                                                                 \n",
      " conv2d_19 (Conv2D)          (None, 8, 8, 30)          8130      \n",
      "                                                                 \n",
      " max_pooling2d_9 (MaxPooling  (None, 4, 4, 30)         0         \n",
      " 2D)                                                             \n",
      "                                                                 \n",
      " dropout_8 (Dropout)         (None, 4, 4, 30)          0         \n",
      "                                                                 \n",
      " flatten_4 (Flatten)         (None, 480)               0         \n",
      "                                                                 \n",
      " dense_8 (Dense)             (None, 500)               240500    \n",
      "                                                                 \n",
      " dropout_9 (Dropout)         (None, 500)               0         \n",
      "                                                                 \n",
      " dense_9 (Dense)             (None, 10)                5010      \n",
      "                                                                 \n",
      "=================================================================\n",
      "Total params: 361,490\n",
      "Trainable params: 361,490\n",
      "Non-trainable params: 0\n",
      "_________________________________________________________________\n",
      "None\n"
     ]
    }
   ],
   "source": [
    "# creating our model\n",
    "model = my_model()\n",
    "# checking the model summary to see the parameters of the model\n",
    "print(model.summary())"
   ]
  },
  {
   "cell_type": "code",
   "execution_count": 107,
   "metadata": {},
   "outputs": [],
   "source": [
    "# defining variables used in training and requesting\n",
    "batch_size_val = 50\n",
    "epochs_val = 10\n",
    "steps_per_epoch_val = 2000"
   ]
  },
  {
   "cell_type": "code",
   "execution_count": null,
   "metadata": {},
   "outputs": [],
   "source": [
    "# running the training at the same time requesting in batches that we need images\n",
    "history = model.fit_generator(data_generator.flow(\n",
    "                                                  X_train, \n",
    "                                                  Y_train, \n",
    "                                                  batch_size=batch_size_val\n",
    "                                                 ), \n",
    "                              steps_per_epoch=steps_per_epoch_val, \n",
    "                              epochs=epochs_val, \n",
    "                              validation_data=(\n",
    "                                               X_validation, \n",
    "                                               Y_validation\n",
    "                                              ),\n",
    "                              shuffle=1            \n",
    "                             )\n",
    "                             "
   ]
  },
  {
   "cell_type": "code",
   "execution_count": null,
   "metadata": {},
   "outputs": [],
   "source": [
    "# plotting grphs to see the variation in accuracy and loss\n",
    "plt.figure(1)\n",
    "plt.plot(history.history['loss'])\n",
    "plt.plot(history.history['val_loss'])\n",
    "plt.legend(['training', 'validation'])\n",
    "plt.title('Loss')\n",
    "plt.xlabel('epochs')\n",
    "\n",
    "plt.figure(2)\n",
    "plt.plot(history.history['accuracy'])\n",
    "plt.plot(history.history['val_accuracy'])\n",
    "plt.legend(['training', 'validation'])\n",
    "plt.title('Accuracy')\n",
    "plt.xlabel('epochs')\n",
    "\n",
    "plt.show()\n",
    "\n",
    "# checking the score of the model\n",
    "score = model.evaluate(X_test, Y_test, verbose=0)\n",
    "\n",
    "print(\"Test score: \", score[0]) # printing the test score\n",
    "print(\"Test accuracy: \", score[1]) # printing the test accuracy\n"
   ]
  },
  {
   "cell_type": "code",
   "execution_count": null,
   "metadata": {},
   "outputs": [],
   "source": [
    "# saving the file so that we can use it in our testing model \n",
    "# saving the model as a pickle object\n",
    "pickle_out = open(\"trained_model.p\", \"wb\")\n",
    "pickle.dump(model, pickle_out)\n",
    "pickle_out.close()\n"
   ]
  },
  {
   "cell_type": "markdown",
   "metadata": {},
   "source": [
    "Learned from the YouTube channel: Murtaza's Workshop<br><br>\n",
    "Text Detection using Neural Networks | OPENCV Python"
   ]
  }
 ],
 "metadata": {
  "interpreter": {
   "hash": "e7370f93d1d0cde622a1f8e1c04877d8463912d04d973331ad4851f04de6915a"
  },
  "kernelspec": {
   "display_name": "Python 3.10.5 64-bit",
   "language": "python",
   "name": "python3"
  },
  "language_info": {
   "codemirror_mode": {
    "name": "ipython",
    "version": 3
   },
   "file_extension": ".py",
   "mimetype": "text/x-python",
   "name": "python",
   "nbconvert_exporter": "python",
   "pygments_lexer": "ipython3",
   "version": "3.10.5"
  },
  "orig_nbformat": 4
 },
 "nbformat": 4,
 "nbformat_minor": 2
}
